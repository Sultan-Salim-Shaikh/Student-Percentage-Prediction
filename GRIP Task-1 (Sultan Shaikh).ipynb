{
 "cells": [
  {
   "cell_type": "markdown",
   "id": "caf91495",
   "metadata": {},
   "source": [
    "# The Spark Foundation - Data Science & Business Analytics Intership"
   ]
  },
  {
   "cell_type": "markdown",
   "id": "72794b1b",
   "metadata": {},
   "source": [
    "# Task - 1 Prediction using Supervised Machine Learning\n",
    "####           In this task we have to predict the percentage of marks that a student is expected to score based upon the number of hours they have studied. "
   ]
  },
  {
   "cell_type": "markdown",
   "id": "8ce13679",
   "metadata": {},
   "source": [
    "# Author : Sultan Shaikh"
   ]
  },
  {
   "cell_type": "markdown",
   "id": "7343f4fb",
   "metadata": {},
   "source": [
    "# Batch - January 2022 "
   ]
  },
  {
   "cell_type": "code",
   "execution_count": 1,
   "id": "b8542ca3",
   "metadata": {},
   "outputs": [],
   "source": [
    "# First we will Import all Libraries required in this notebook\n",
    "import pandas as pd\n",
    "import numpy as np  \n",
    "import matplotlib.pyplot as plt  \n",
    "%matplotlib inline"
   ]
  },
  {
   "cell_type": "markdown",
   "id": "ca091e05",
   "metadata": {},
   "source": [
    "Step 1 - Importing and Reading Data "
   ]
  },
  {
   "cell_type": "code",
   "execution_count": 2,
   "id": "020ce2c6",
   "metadata": {},
   "outputs": [
    {
     "name": "stdout",
     "output_type": "stream",
     "text": [
      "data imported successfully\n"
     ]
    },
    {
     "data": {
      "text/html": [
       "<div>\n",
       "<style scoped>\n",
       "    .dataframe tbody tr th:only-of-type {\n",
       "        vertical-align: middle;\n",
       "    }\n",
       "\n",
       "    .dataframe tbody tr th {\n",
       "        vertical-align: top;\n",
       "    }\n",
       "\n",
       "    .dataframe thead th {\n",
       "        text-align: right;\n",
       "    }\n",
       "</style>\n",
       "<table border=\"1\" class=\"dataframe\">\n",
       "  <thead>\n",
       "    <tr style=\"text-align: right;\">\n",
       "      <th></th>\n",
       "      <th>Hours</th>\n",
       "      <th>Scores</th>\n",
       "    </tr>\n",
       "  </thead>\n",
       "  <tbody>\n",
       "    <tr>\n",
       "      <th>0</th>\n",
       "      <td>2.5</td>\n",
       "      <td>21</td>\n",
       "    </tr>\n",
       "    <tr>\n",
       "      <th>1</th>\n",
       "      <td>5.1</td>\n",
       "      <td>47</td>\n",
       "    </tr>\n",
       "    <tr>\n",
       "      <th>2</th>\n",
       "      <td>3.2</td>\n",
       "      <td>27</td>\n",
       "    </tr>\n",
       "    <tr>\n",
       "      <th>3</th>\n",
       "      <td>8.5</td>\n",
       "      <td>75</td>\n",
       "    </tr>\n",
       "    <tr>\n",
       "      <th>4</th>\n",
       "      <td>3.5</td>\n",
       "      <td>30</td>\n",
       "    </tr>\n",
       "  </tbody>\n",
       "</table>\n",
       "</div>"
      ],
      "text/plain": [
       "   Hours  Scores\n",
       "0    2.5      21\n",
       "1    5.1      47\n",
       "2    3.2      27\n",
       "3    8.5      75\n",
       "4    3.5      30"
      ]
     },
     "execution_count": 2,
     "metadata": {},
     "output_type": "execute_result"
    }
   ],
   "source": [
    "# Reading data from remote link\n",
    "url = \"http://bit.ly/w-data\"\n",
    "students_data = pd.read_csv(url)\n",
    "print(\"data imported successfully\")\n",
    "\n",
    "students_data.head()"
   ]
  },
  {
   "cell_type": "code",
   "execution_count": 3,
   "id": "fb8a4f80",
   "metadata": {},
   "outputs": [
    {
     "name": "stdout",
     "output_type": "stream",
     "text": [
      "<class 'pandas.core.frame.DataFrame'>\n",
      "RangeIndex: 25 entries, 0 to 24\n",
      "Data columns (total 2 columns):\n",
      " #   Column  Non-Null Count  Dtype  \n",
      "---  ------  --------------  -----  \n",
      " 0   Hours   25 non-null     float64\n",
      " 1   Scores  25 non-null     int64  \n",
      "dtypes: float64(1), int64(1)\n",
      "memory usage: 528.0 bytes\n"
     ]
    }
   ],
   "source": [
    "#Checking Not null values\n",
    "students_data.info()"
   ]
  },
  {
   "cell_type": "markdown",
   "id": "5ed577a6",
   "metadata": {},
   "source": [
    "#### Step 2 - Plotting  the Data"
   ]
  },
  {
   "cell_type": "code",
   "execution_count": 4,
   "id": "0c8268fc",
   "metadata": {},
   "outputs": [
    {
     "data": {
      "image/png": "[encoded data removed]",
      "text/plain": [
       "<Figure size 432x288 with 1 Axes>"
      ]
     },
     "metadata": {
      "needs_background": "light"
     },
     "output_type": "display_data"
    }
   ],
   "source": [
    "# Plotting the distribution of scores\n",
    "students_data.plot(x='Hours', y='Scores', style='o',color='red',markersize=6)  \n",
    "plt.title('Hours vs Percentage',color='green',size=14)  \n",
    "plt.xlabel('Hours Studied by student')  \n",
    "plt.ylabel('Obtained score in %')\n",
    "plt.grid()\n",
    "plt.show()"
   ]
  },
  {
   "cell_type": "code",
   "execution_count": 5,
   "id": "6b059ed9",
   "metadata": {},
   "outputs": [
    {
     "data": {
      "image/png": "[encoded data removed]",
      "text/plain": [
       "<Figure size 432x288 with 1 Axes>"
      ]
     },
     "metadata": {
      "needs_background": "light"
     },
     "output_type": "display_data"
    }
   ],
   "source": [
    "students_data.plot.bar(x='Hours', y='Scores',color='blue')\n",
    "plt.title('Hours Studied vs Total Score',color='red',size=14)\n",
    "plt.xlabel('Hours Studied',size=10)  \n",
    "plt.ylabel('Total Score in %',size=10)\n",
    "plt.grid()\n",
    "plt.show()"
   ]
  },
  {
   "cell_type": "code",
   "execution_count": 6,
   "id": "4f2abd80",
   "metadata": {},
   "outputs": [
    {
     "data": {
      "text/html": [
       "<div>\n",
       "<style scoped>\n",
       "    .dataframe tbody tr th:only-of-type {\n",
       "        vertical-align: middle;\n",
       "    }\n",
       "\n",
       "    .dataframe tbody tr th {\n",
       "        vertical-align: top;\n",
       "    }\n",
       "\n",
       "    .dataframe thead th {\n",
       "        text-align: right;\n",
       "    }\n",
       "</style>\n",
       "<table border=\"1\" class=\"dataframe\">\n",
       "  <thead>\n",
       "    <tr style=\"text-align: right;\">\n",
       "      <th></th>\n",
       "      <th>Hours</th>\n",
       "      <th>Scores</th>\n",
       "    </tr>\n",
       "  </thead>\n",
       "  <tbody>\n",
       "    <tr>\n",
       "      <th>Hours</th>\n",
       "      <td>1.000000</td>\n",
       "      <td>0.976191</td>\n",
       "    </tr>\n",
       "    <tr>\n",
       "      <th>Scores</th>\n",
       "      <td>0.976191</td>\n",
       "      <td>1.000000</td>\n",
       "    </tr>\n",
       "  </tbody>\n",
       "</table>\n",
       "</div>"
      ],
      "text/plain": [
       "           Hours    Scores\n",
       "Hours   1.000000  0.976191\n",
       "Scores  0.976191  1.000000"
      ]
     },
     "execution_count": 6,
     "metadata": {},
     "output_type": "execute_result"
    }
   ],
   "source": [
    "#corr used for correaltion between variable\n",
    "students_data.corr()"
   ]
  },
  {
   "cell_type": "markdown",
   "id": "b55104ae",
   "metadata": {},
   "source": [
    "#### After plotting different graphs , we have observed Positive Correlation between Study   as Study Hours increases,Total Score also increases."
   ]
  },
  {
   "cell_type": "markdown",
   "id": "f2e876cb",
   "metadata": {},
   "source": [
    "#### Step 3 - Preparing the data"
   ]
  },
  {
   "cell_type": "code",
   "execution_count": 7,
   "id": "6fe37029",
   "metadata": {},
   "outputs": [],
   "source": [
    "X = students_data.iloc[:, :-1].values  \n",
    "Y = students_data.iloc[:, 1].values "
   ]
  },
  {
   "cell_type": "markdown",
   "id": "0def2b77",
   "metadata": {},
   "source": [
    "#### Step 4 - We will divide the data for training and testing the model"
   ]
  },
  {
   "cell_type": "code",
   "execution_count": 8,
   "id": "f677578b",
   "metadata": {},
   "outputs": [],
   "source": [
    "from sklearn.model_selection import train_test_split  \n",
    "X_train, X_test, Y_train, Y_test = train_test_split(X, Y, \n",
    "                            test_size=0.2, random_state=0)"
   ]
  },
  {
   "cell_type": "markdown",
   "id": "9dd1cb86",
   "metadata": {},
   "source": [
    "#### Step 5 - Training the Algorithm \n",
    "We have split our data into training and testing sets, and now is finally the time to train our algorithm. "
   ]
  },
  {
   "cell_type": "code",
   "execution_count": 10,
   "id": "ca8efe87",
   "metadata": {},
   "outputs": [
    {
     "name": "stdout",
     "output_type": "stream",
     "text": [
      "Training completed.\n"
     ]
    }
   ],
   "source": [
    "from sklearn.linear_model import LinearRegression  \n",
    "model = LinearRegression()  \n",
    "model.fit(X_train, Y_train) \n",
    "\n",
    "print(\"Training completed.\")"
   ]
  },
  {
   "cell_type": "markdown",
   "id": "1478406f",
   "metadata": {},
   "source": [
    "#### Step 6 - Visualizing The Model"
   ]
  },
  {
   "cell_type": "code",
   "execution_count": 11,
   "id": "f331a17b",
   "metadata": {},
   "outputs": [],
   "source": [
    "# Plotting the regression line\n",
    "m=model.coef_\n",
    "c=model.intercept_\n",
    "line = m*X+c"
   ]
  },
  {
   "cell_type": "code",
   "execution_count": 12,
   "id": "54196d6d",
   "metadata": {},
   "outputs": [
    {
     "data": {
      "image/png": "[encoded data removed]",
      "text/plain": [
       "<Figure size 432x288 with 1 Axes>"
      ]
     },
     "metadata": {
      "needs_background": "light"
     },
     "output_type": "display_data"
    }
   ],
   "source": [
    "# Plotting for the test data\n",
    "plt.scatter(X, Y,color='green' )\n",
    "plt.plot(X, line,color='blue')\n",
    "plt.xlabel('Hours')\n",
    "plt.ylabel('Score')\n",
    "plt.title('Plot of fitted regression line')\n",
    "plt.show()"
   ]
  },
  {
   "cell_type": "markdown",
   "id": "3ae16ff7",
   "metadata": {},
   "source": [
    "#### Step 7 - Making Predictions\n",
    "Now that we have trained our algorithm, it's time to make some predictions."
   ]
  },
  {
   "cell_type": "code",
   "execution_count": 13,
   "id": "12ee2163",
   "metadata": {},
   "outputs": [
    {
     "name": "stdout",
     "output_type": "stream",
     "text": [
      "The Predicted scores based on testing dataset is: [16.88414476 33.73226078 75.357018   26.79480124 60.49103328]\n"
     ]
    }
   ],
   "source": [
    "Y_predicted=model.predict(X_train)\n",
    "Y_pred = model.predict(X_test) # Predicting the scores\n",
    "print(\"The Predicted scores based on testing dataset is:\",Y_pred)"
   ]
  },
  {
   "cell_type": "code",
   "execution_count": 14,
   "id": "a9f7eb95",
   "metadata": {},
   "outputs": [
    {
     "name": "stdout",
     "output_type": "stream",
     "text": [
      "Model Accuracy is 94.54906892105356 %\n"
     ]
    }
   ],
   "source": [
    "#checking accuracy of the model\n",
    "M=model.score(X_test,Y_test)\n",
    "print(\"Model Accuracy is\",M*100,'%')"
   ]
  },
  {
   "cell_type": "code",
   "execution_count": 15,
   "id": "c4189d78",
   "metadata": {},
   "outputs": [
    {
     "data": {
      "text/html": [
       "<div>\n",
       "<style scoped>\n",
       "    .dataframe tbody tr th:only-of-type {\n",
       "        vertical-align: middle;\n",
       "    }\n",
       "\n",
       "    .dataframe tbody tr th {\n",
       "        vertical-align: top;\n",
       "    }\n",
       "\n",
       "    .dataframe thead th {\n",
       "        text-align: right;\n",
       "    }\n",
       "</style>\n",
       "<table border=\"1\" class=\"dataframe\">\n",
       "  <thead>\n",
       "    <tr style=\"text-align: right;\">\n",
       "      <th></th>\n",
       "      <th>Actual</th>\n",
       "      <th>Predicted</th>\n",
       "    </tr>\n",
       "  </thead>\n",
       "  <tbody>\n",
       "    <tr>\n",
       "      <th>0</th>\n",
       "      <td>20</td>\n",
       "      <td>16.884145</td>\n",
       "    </tr>\n",
       "    <tr>\n",
       "      <th>1</th>\n",
       "      <td>27</td>\n",
       "      <td>33.732261</td>\n",
       "    </tr>\n",
       "    <tr>\n",
       "      <th>2</th>\n",
       "      <td>69</td>\n",
       "      <td>75.357018</td>\n",
       "    </tr>\n",
       "    <tr>\n",
       "      <th>3</th>\n",
       "      <td>30</td>\n",
       "      <td>26.794801</td>\n",
       "    </tr>\n",
       "    <tr>\n",
       "      <th>4</th>\n",
       "      <td>62</td>\n",
       "      <td>60.491033</td>\n",
       "    </tr>\n",
       "  </tbody>\n",
       "</table>\n",
       "</div>"
      ],
      "text/plain": [
       "   Actual  Predicted\n",
       "0      20  16.884145\n",
       "1      27  33.732261\n",
       "2      69  75.357018\n",
       "3      30  26.794801\n",
       "4      62  60.491033"
      ]
     },
     "execution_count": 15,
     "metadata": {},
     "output_type": "execute_result"
    }
   ],
   "source": [
    "# Comparing Actual vs Predicted\n",
    "df = pd.DataFrame({'Actual': Y_test, 'Predicted': Y_pred})  \n",
    "df "
   ]
  },
  {
   "cell_type": "code",
   "execution_count": 16,
   "id": "b295c6fa",
   "metadata": {},
   "outputs": [
    {
     "data": {
      "image/png": "[encoded data removed]",
      "text/plain": [
       "<Figure size 360x360 with 1 Axes>"
      ]
     },
     "metadata": {
      "needs_background": "light"
     },
     "output_type": "display_data"
    }
   ],
   "source": [
    "# Plotting the Bar graph to find the difference between the Actual and Predicted value\n",
    "df.plot(kind='bar',color=('r','b'),figsize=(5,5))\n",
    "plt.xlabel('Hours')\n",
    "plt.ylabel('Scores')\n",
    "plt.title(\"Compare using Bar digram\")\n",
    "plt.grid()\n",
    "plt.show()\n"
   ]
  },
  {
   "cell_type": "markdown",
   "id": "1f707d5d",
   "metadata": {},
   "source": [
    "#### Step 8 - Evaluating the model using the given test dataset"
   ]
  },
  {
   "cell_type": "code",
   "execution_count": 17,
   "id": "8b826382",
   "metadata": {},
   "outputs": [
    {
     "name": "stdout",
     "output_type": "stream",
     "text": [
      "The Predicted score for student who studies 9.25 hours is 93.69173248737538\n"
     ]
    }
   ],
   "source": [
    "# Testing with our own data\n",
    "hours = np.array([[9.25]])\n",
    "own_prediction= model.predict(hours)\n",
    "print('The Predicted score for student who studies 9.25 hours is {}'.format(own_prediction[0]))"
   ]
  },
  {
   "cell_type": "markdown",
   "id": "7f1fc540",
   "metadata": {},
   "source": [
    "#### Step 9 -  Evaluating the model "
   ]
  },
  {
   "cell_type": "markdown",
   "id": "984b9e77",
   "metadata": {},
   "source": [
    "The final step is to evaluate the performance of algorithm. This step is particularly important to compare how well different algorithms perform on a particular dataset. For simplicity here, we have chosen the mean square error. There are many such metrics."
   ]
  },
  {
   "cell_type": "code",
   "execution_count": 18,
   "id": "3ff0d086",
   "metadata": {},
   "outputs": [
    {
     "name": "stdout",
     "output_type": "stream",
     "text": [
      "Mean Absolute Error: 4.183859899002975\n"
     ]
    }
   ],
   "source": [
    "#Mean Absolute Error \n",
    "from sklearn import metrics  \n",
    "print('Mean Absolute Error:', \n",
    "      metrics.mean_absolute_error(Y_test, Y_pred))"
   ]
  },
  {
   "cell_type": "markdown",
   "id": "8fc4e986",
   "metadata": {},
   "source": [
    "#### Step 10 - Conclusion"
   ]
  },
  {
   "cell_type": "markdown",
   "id": "18ebac14",
   "metadata": {},
   "source": [
    "In this task, we have set a suitable linear regression model including two variable. We have created model for that having 94.5% of the variation in scores of the student(dependent variable) based on number of hours of study (independant variable).\n",
    "According to the  model,we can conclude that if a student studies for 9.25 hrs/day  then the predicted score will be 93.69 %."
   ]
  },
  {
   "cell_type": "markdown",
   "id": "f4cc9dab",
   "metadata": {},
   "source": [
    "                                         Thank You"
   ]
  },
  {
   "cell_type": "code",
   "execution_count": null,
   "id": "e1a7bda9",
   "metadata": {},
   "outputs": [],
   "source": []
  }
 ],
 "metadata": {
  "kernelspec": {
   "display_name": "Python 3",
   "language": "python",
   "name": "python3"
  },
  "language_info": {
   "codemirror_mode": {
    "name": "ipython",
    "version": 3
   },
   "file_extension": ".py",
   "mimetype": "text/x-python",
   "name": "python",
   "nbconvert_exporter": "python",
   "pygments_lexer": "ipython3",
   "version": "3.8.8"
  }
 },
 "nbformat": 4,
 "nbformat_minor": 5
}
